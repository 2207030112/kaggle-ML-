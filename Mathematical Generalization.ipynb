{
 "cells": [
  {
   "cell_type": "code",
   "execution_count": 1,
   "id": "a59d77b8",
   "metadata": {
    "papermill": {
     "duration": 1.088979,
     "end_time": "2024-04-15T19:05:56.811908",
     "exception": false,
     "start_time": "2024-04-15T19:05:55.722929",
     "status": "completed"
    },
    "tags": []
   },
   "outputs": [],
   "source": [
    "import numpy as np \n",
    "import pandas as pd "
   ]
  },
  {
   "cell_type": "code",
   "execution_count": 2,
   "id": "56ab2676",
   "metadata": {
    "papermill": {
     "duration": 0.012931,
     "end_time": "2024-04-15T19:05:56.828263",
     "exception": false,
     "start_time": "2024-04-15T19:05:56.815332",
     "status": "completed"
    },
    "tags": []
   },
   "outputs": [],
   "source": [
    "target=[\"Rings\"]"
   ]
  },
  {
   "cell_type": "code",
   "execution_count": 3,
   "id": "016c9a4d",
   "metadata": {
    "papermill": {
     "duration": 0.355313,
     "end_time": "2024-04-15T19:05:57.203610",
     "exception": false,
     "start_time": "2024-04-15T19:05:56.848297",
     "status": "completed"
    },
    "tags": []
   },
   "outputs": [
    {
     "data": {
      "text/html": [
       "<div>\n",
       "<style scoped>\n",
       "    .dataframe tbody tr th:only-of-type {\n",
       "        vertical-align: middle;\n",
       "    }\n",
       "\n",
       "    .dataframe tbody tr th {\n",
       "        vertical-align: top;\n",
       "    }\n",
       "\n",
       "    .dataframe thead th {\n",
       "        text-align: right;\n",
       "    }\n",
       "</style>\n",
       "<table border=\"1\" class=\"dataframe\">\n",
       "  <thead>\n",
       "    <tr style=\"text-align: right;\">\n",
       "      <th></th>\n",
       "      <th>id</th>\n",
       "      <th>Rings</th>\n",
       "    </tr>\n",
       "  </thead>\n",
       "  <tbody>\n",
       "    <tr>\n",
       "      <th>0</th>\n",
       "      <td>90615</td>\n",
       "      <td>9.666045</td>\n",
       "    </tr>\n",
       "    <tr>\n",
       "      <th>1</th>\n",
       "      <td>90616</td>\n",
       "      <td>9.679274</td>\n",
       "    </tr>\n",
       "    <tr>\n",
       "      <th>2</th>\n",
       "      <td>90617</td>\n",
       "      <td>9.652124</td>\n",
       "    </tr>\n",
       "    <tr>\n",
       "      <th>3</th>\n",
       "      <td>90618</td>\n",
       "      <td>10.476486</td>\n",
       "    </tr>\n",
       "    <tr>\n",
       "      <th>4</th>\n",
       "      <td>90619</td>\n",
       "      <td>7.577490</td>\n",
       "    </tr>\n",
       "  </tbody>\n",
       "</table>\n",
       "</div>"
      ],
      "text/plain": [
       "      id      Rings\n",
       "0  90615   9.666045\n",
       "1  90616   9.679274\n",
       "2  90617   9.652124\n",
       "3  90618  10.476486\n",
       "4  90619   7.577490"
      ]
     },
     "execution_count": 3,
     "metadata": {},
     "output_type": "execute_result"
    }
   ],
   "source": [
    "sub_external1=pd.read_csv(\"144/1.4452.csv\")\n",
    "sub_external2=pd.read_csv(\"144/1.4454.csv\")\n",
    "submission1=pd.read_csv(\"144/1.44541.csv\")\n",
    "submission2=pd.read_csv(\"144/1.4454(1).csv\")\n",
    "submission3=pd.read_csv(\"144/1.4455.csv\")\n",
    "submission4=pd.read_csv(\"144/1.44551.csv\")\n",
    "submission5=pd.read_csv(\"144/1.44552.csv\")\n",
    "\n",
    "\"\"\"\n",
    "Select submissions from different versions of your work or other's predictions. Different frameworks result in better generalization\n",
    "\"\"\"\n",
    "\n",
    "\n",
    "sub_list=[sub_external1,sub_external2,submission1,submission2,submission3, submission4, submission5] # list all the results\n",
    "\n",
    "\"\"\"\n",
    "Since there are 7 predictions, I'm assigning a weight 5 for the best three results and 1 each for the others\n",
    "\"\"\"\n",
    "weights=[9,4,4,4,1,1,1]\n",
    "\n",
    "if len(sub_list)==len(weights):\n",
    "    weighted_list = [item for sublist, weight in zip(sub_list, weights) for item in [sublist] * weight]\n",
    "    \n",
    "\n",
    "def ensemble_mean(sub_list,cols, mean=\"AM\"):\n",
    "    \n",
    "    \"\"\"\n",
    "    The function computes Arithmetic Mean/Geometric Mean/Harmonic Mean given a list of results with specific results.\n",
    "    \"\"\"\n",
    "    \n",
    "    sub_out=sub_list[0].copy()\n",
    "    if mean==\"AM\":\n",
    "        for col in cols:\n",
    "            sub_out[col]=sum(df[col] for df in sub_list)/len(sub_list)\n",
    "    elif mean==\"GM\":\n",
    "        for df in sub_list[1:]:\n",
    "            for col in cols:\n",
    "                sub_out[col]*=df[col]\n",
    "        for col in cols:\n",
    "            sub_out[col]=(sub_out[col])**(1/len(sub_list))\n",
    "    elif mean==\"HM\":\n",
    "        for col in cols:\n",
    "            sub_out[col]=len(sub_list)/sum(1/df[col] for df in sub_list)\n",
    "    \n",
    "    return sub_out\n",
    "    \n",
    "sub_ensemble=ensemble_mean(weighted_list,target,mean=\"HM\")\n",
    "sub_ensemble.head()"
   ]
  },
  {
   "cell_type": "code",
   "execution_count": 4,
   "id": "514246cc",
   "metadata": {
    "papermill": {
     "duration": 0.168536,
     "end_time": "2024-04-15T19:05:57.375780",
     "exception": false,
     "start_time": "2024-04-15T19:05:57.207244",
     "status": "completed"
    },
    "tags": []
   },
   "outputs": [
    {
     "data": {
      "text/html": [
       "<div>\n",
       "<style scoped>\n",
       "    .dataframe tbody tr th:only-of-type {\n",
       "        vertical-align: middle;\n",
       "    }\n",
       "\n",
       "    .dataframe tbody tr th {\n",
       "        vertical-align: top;\n",
       "    }\n",
       "\n",
       "    .dataframe thead th {\n",
       "        text-align: right;\n",
       "    }\n",
       "</style>\n",
       "<table border=\"1\" class=\"dataframe\">\n",
       "  <thead>\n",
       "    <tr style=\"text-align: right;\">\n",
       "      <th></th>\n",
       "      <th>id</th>\n",
       "      <th>Rings</th>\n",
       "    </tr>\n",
       "  </thead>\n",
       "  <tbody>\n",
       "    <tr>\n",
       "      <th>0</th>\n",
       "      <td>90615</td>\n",
       "      <td>9.666045</td>\n",
       "    </tr>\n",
       "    <tr>\n",
       "      <th>1</th>\n",
       "      <td>90616</td>\n",
       "      <td>9.679274</td>\n",
       "    </tr>\n",
       "    <tr>\n",
       "      <th>2</th>\n",
       "      <td>90617</td>\n",
       "      <td>9.652124</td>\n",
       "    </tr>\n",
       "    <tr>\n",
       "      <th>3</th>\n",
       "      <td>90618</td>\n",
       "      <td>10.476486</td>\n",
       "    </tr>\n",
       "    <tr>\n",
       "      <th>4</th>\n",
       "      <td>90619</td>\n",
       "      <td>7.577490</td>\n",
       "    </tr>\n",
       "  </tbody>\n",
       "</table>\n",
       "</div>"
      ],
      "text/plain": [
       "      id      Rings\n",
       "0  90615   9.666045\n",
       "1  90616   9.679274\n",
       "2  90617   9.652124\n",
       "3  90618  10.476486\n",
       "4  90619   7.577490"
      ]
     },
     "execution_count": 4,
     "metadata": {},
     "output_type": "execute_result"
    }
   ],
   "source": [
    "sub_ensemble.to_csv('submission.csv',index=False)\n",
    "sub_ensemble.head()"
   ]
  },
  {
   "cell_type": "code",
   "execution_count": null,
   "id": "37defe74",
   "metadata": {},
   "outputs": [],
   "source": []
  }
 ],
 "metadata": {
  "kaggle": {
   "accelerator": "none",
   "dataSources": [
    {
     "databundleVersionId": 8096274,
     "sourceId": 72489,
     "sourceType": "competition"
    },
    {
     "datasetId": 4729127,
     "sourceId": 8093830,
     "sourceType": "datasetVersion"
    },
    {
     "sourceId": 171229461,
     "sourceType": "kernelVersion"
    },
    {
     "sourceId": 171846550,
     "sourceType": "kernelVersion"
    },
    {
     "sourceId": 171935578,
     "sourceType": "kernelVersion"
    }
   ],
   "dockerImageVersionId": 30673,
   "isGpuEnabled": false,
   "isInternetEnabled": true,
   "language": "python",
   "sourceType": "notebook"
  },
  "kernelspec": {
   "display_name": "Python 3 (ipykernel)",
   "language": "python",
   "name": "python3"
  },
  "language_info": {
   "codemirror_mode": {
    "name": "ipython",
    "version": 3
   },
   "file_extension": ".py",
   "mimetype": "text/x-python",
   "name": "python",
   "nbconvert_exporter": "python",
   "pygments_lexer": "ipython3",
   "version": "3.11.3"
  },
  "papermill": {
   "default_parameters": {},
   "duration": 5.511704,
   "end_time": "2024-04-15T19:05:58.104740",
   "environment_variables": {},
   "exception": null,
   "input_path": "__notebook__.ipynb",
   "output_path": "__notebook__.ipynb",
   "parameters": {},
   "start_time": "2024-04-15T19:05:52.593036",
   "version": "2.5.0"
  }
 },
 "nbformat": 4,
 "nbformat_minor": 5
}
