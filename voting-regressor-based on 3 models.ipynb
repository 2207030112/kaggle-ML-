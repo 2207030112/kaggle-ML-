{
 "cells": [
  {
   "cell_type": "code",
   "execution_count": 1,
   "id": "dbaa2874",
   "metadata": {
    "execution": {
     "iopub.execute_input": "2024-04-09T19:58:03.738550Z",
     "iopub.status.busy": "2024-04-09T19:58:03.738261Z",
     "iopub.status.idle": "2024-04-09T19:58:03.748430Z",
     "shell.execute_reply": "2024-04-09T19:58:03.747753Z"
    },
    "papermill": {
     "duration": 0.01867,
     "end_time": "2024-04-09T19:58:03.750181",
     "exception": false,
     "start_time": "2024-04-09T19:58:03.731511",
     "status": "completed"
    },
    "tags": []
   },
   "outputs": [],
   "source": [
    "import warnings\n",
    "warnings.filterwarnings(\"ignore\")"
   ]
  },
  {
   "cell_type": "code",
   "execution_count": 2,
   "id": "efd94da8",
   "metadata": {
    "execution": {
     "iopub.execute_input": "2024-04-09T19:58:03.763494Z",
     "iopub.status.busy": "2024-04-09T19:58:03.762750Z",
     "iopub.status.idle": "2024-04-09T19:58:21.176827Z",
     "shell.execute_reply": "2024-04-09T19:58:21.175682Z"
    },
    "papermill": {
     "duration": 17.423032,
     "end_time": "2024-04-09T19:58:21.179126",
     "exception": false,
     "start_time": "2024-04-09T19:58:03.756094",
     "status": "completed"
    },
    "tags": []
   },
   "outputs": [
    {
     "name": "stdout",
     "output_type": "stream",
     "text": [
      "\u001b[31mERROR: pip's dependency resolver does not currently take into account all the packages that are installed. This behaviour is the source of the following dependency conflicts.\r\n",
      "spopt 0.6.0 requires shapely>=2.0.1, but you have shapely 1.8.5.post1 which is incompatible.\u001b[0m\u001b[31m\r\n",
      "\u001b[0m"
     ]
    }
   ],
   "source": [
    "!pip install -U scikit-learn -q"
   ]
  },
  {
   "cell_type": "code",
   "execution_count": 3,
   "id": "80bf236b",
   "metadata": {
    "_cell_guid": "b1076dfc-b9ad-4769-8c92-a6c4dae69d19",
    "_uuid": "8f2839f25d086af736a60e9eeb907d3b93b6e0e5",
    "execution": {
     "iopub.execute_input": "2024-04-09T19:58:21.192895Z",
     "iopub.status.busy": "2024-04-09T19:58:21.192574Z",
     "iopub.status.idle": "2024-04-09T19:58:26.002794Z",
     "shell.execute_reply": "2024-04-09T19:58:26.001828Z"
    },
    "papermill": {
     "duration": 4.819717,
     "end_time": "2024-04-09T19:58:26.005122",
     "exception": false,
     "start_time": "2024-04-09T19:58:21.185405",
     "status": "completed"
    },
    "tags": []
   },
   "outputs": [],
   "source": [
    "from sklearn.model_selection import train_test_split, cross_val_score, StratifiedKFold\n",
    "from sklearn.metrics import make_scorer, mean_squared_error, root_mean_squared_error\n",
    "from sklearn.ensemble import RandomForestRegressor\n",
    "from sklearn.preprocessing import OneHotEncoder\n",
    "from sklearn.ensemble import VotingRegressor\n",
    "from catboost import CatBoostRegressor\n",
    "from lightgbm import LGBMRegressor\n",
    "from xgboost import XGBRegressor\n",
    "import matplotlib.pyplot as plt\n",
    "from sklearn.base import copy\n",
    "import pandas as pd\n",
    "import numpy as np\n",
    "import random\n",
    "import optuna"
   ]
  },
  {
   "cell_type": "code",
   "execution_count": 4,
   "id": "af1c0b30",
   "metadata": {
    "execution": {
     "iopub.execute_input": "2024-04-09T19:58:26.021968Z",
     "iopub.status.busy": "2024-04-09T19:58:26.021630Z",
     "iopub.status.idle": "2024-04-09T19:58:26.026580Z",
     "shell.execute_reply": "2024-04-09T19:58:26.025758Z"
    },
    "papermill": {
     "duration": 0.016043,
     "end_time": "2024-04-09T19:58:26.028424",
     "exception": false,
     "start_time": "2024-04-09T19:58:26.012381",
     "status": "completed"
    },
    "tags": []
   },
   "outputs": [],
   "source": [
    "RANDOM_SEED = 42\n",
    "\n",
    "# This action may be dangerous for the private score\n",
    "MAKING_ENSEMBLE = True\n",
    "\n",
    "FIND_BEST_PARAMS = False\n",
    "APPLY_LOG_TRANSFORMATION = True\n",
    "APPLY_FEATURE_ENGINEERING = True\n",
    "\n",
    "np.random.seed(RANDOM_SEED)\n",
    "random.seed(RANDOM_SEED)"
   ]
  },
  {
   "cell_type": "code",
   "execution_count": 5,
   "id": "30eac9e9",
   "metadata": {
    "execution": {
     "iopub.execute_input": "2024-04-09T19:58:26.042158Z",
     "iopub.status.busy": "2024-04-09T19:58:26.041881Z",
     "iopub.status.idle": "2024-04-09T19:58:26.354657Z",
     "shell.execute_reply": "2024-04-09T19:58:26.353657Z"
    },
    "papermill": {
     "duration": 0.322309,
     "end_time": "2024-04-09T19:58:26.357083",
     "exception": false,
     "start_time": "2024-04-09T19:58:26.034774",
     "status": "completed"
    },
    "tags": []
   },
   "outputs": [],
   "source": [
    "train   = pd.read_csv('/kaggle/input/playground-series-s4e4/train.csv')\n",
    "orginal = pd.read_csv('/kaggle/input/abalone-dataset/abalone.csv')\n",
    "test    = pd.read_csv('/kaggle/input/playground-series-s4e4/test.csv')"
   ]
  },
  {
   "cell_type": "code",
   "execution_count": 6,
   "id": "9be02946",
   "metadata": {
    "execution": {
     "iopub.execute_input": "2024-04-09T19:58:26.370805Z",
     "iopub.status.busy": "2024-04-09T19:58:26.370476Z",
     "iopub.status.idle": "2024-04-09T19:58:26.413951Z",
     "shell.execute_reply": "2024-04-09T19:58:26.412923Z"
    },
    "papermill": {
     "duration": 0.052517,
     "end_time": "2024-04-09T19:58:26.415903",
     "exception": false,
     "start_time": "2024-04-09T19:58:26.363386",
     "status": "completed"
    },
    "tags": []
   },
   "outputs": [
    {
     "data": {
      "text/html": [
       "<div>\n",
       "<style scoped>\n",
       "    .dataframe tbody tr th:only-of-type {\n",
       "        vertical-align: middle;\n",
       "    }\n",
       "\n",
       "    .dataframe tbody tr th {\n",
       "        vertical-align: top;\n",
       "    }\n",
       "\n",
       "    .dataframe thead th {\n",
       "        text-align: right;\n",
       "    }\n",
       "</style>\n",
       "<table border=\"1\" class=\"dataframe\">\n",
       "  <thead>\n",
       "    <tr style=\"text-align: right;\">\n",
       "      <th></th>\n",
       "      <th>Sex</th>\n",
       "      <th>Length</th>\n",
       "      <th>Diameter</th>\n",
       "      <th>Height</th>\n",
       "      <th>Whole weight</th>\n",
       "      <th>Shucked weight</th>\n",
       "      <th>Viscera weight</th>\n",
       "      <th>Shell weight</th>\n",
       "    </tr>\n",
       "  </thead>\n",
       "  <tbody>\n",
       "    <tr>\n",
       "      <th>0</th>\n",
       "      <td>F</td>\n",
       "      <td>0.550</td>\n",
       "      <td>0.430</td>\n",
       "      <td>0.150</td>\n",
       "      <td>0.7715</td>\n",
       "      <td>0.3285</td>\n",
       "      <td>0.1465</td>\n",
       "      <td>0.2400</td>\n",
       "    </tr>\n",
       "    <tr>\n",
       "      <th>1</th>\n",
       "      <td>F</td>\n",
       "      <td>0.630</td>\n",
       "      <td>0.490</td>\n",
       "      <td>0.145</td>\n",
       "      <td>1.1300</td>\n",
       "      <td>0.4580</td>\n",
       "      <td>0.2765</td>\n",
       "      <td>0.3200</td>\n",
       "    </tr>\n",
       "    <tr>\n",
       "      <th>2</th>\n",
       "      <td>I</td>\n",
       "      <td>0.160</td>\n",
       "      <td>0.110</td>\n",
       "      <td>0.025</td>\n",
       "      <td>0.0210</td>\n",
       "      <td>0.0055</td>\n",
       "      <td>0.0030</td>\n",
       "      <td>0.0050</td>\n",
       "    </tr>\n",
       "    <tr>\n",
       "      <th>3</th>\n",
       "      <td>M</td>\n",
       "      <td>0.595</td>\n",
       "      <td>0.475</td>\n",
       "      <td>0.150</td>\n",
       "      <td>0.9145</td>\n",
       "      <td>0.3755</td>\n",
       "      <td>0.2055</td>\n",
       "      <td>0.2500</td>\n",
       "    </tr>\n",
       "    <tr>\n",
       "      <th>4</th>\n",
       "      <td>I</td>\n",
       "      <td>0.555</td>\n",
       "      <td>0.425</td>\n",
       "      <td>0.130</td>\n",
       "      <td>0.7820</td>\n",
       "      <td>0.3695</td>\n",
       "      <td>0.1600</td>\n",
       "      <td>0.1975</td>\n",
       "    </tr>\n",
       "  </tbody>\n",
       "</table>\n",
       "</div>"
      ],
      "text/plain": [
       "  Sex  Length  Diameter  Height  Whole weight  Shucked weight  Viscera weight  \\\n",
       "0   F   0.550     0.430   0.150        0.7715          0.3285          0.1465   \n",
       "1   F   0.630     0.490   0.145        1.1300          0.4580          0.2765   \n",
       "2   I   0.160     0.110   0.025        0.0210          0.0055          0.0030   \n",
       "3   M   0.595     0.475   0.150        0.9145          0.3755          0.2055   \n",
       "4   I   0.555     0.425   0.130        0.7820          0.3695          0.1600   \n",
       "\n",
       "   Shell weight  \n",
       "0        0.2400  \n",
       "1        0.3200  \n",
       "2        0.0050  \n",
       "3        0.2500  \n",
       "4        0.1975  "
      ]
     },
     "execution_count": 6,
     "metadata": {},
     "output_type": "execute_result"
    }
   ],
   "source": [
    "train = train.drop(['id'], axis = 1)\n",
    "train.columns = orginal.columns\n",
    "train = pd.concat([train, orginal], axis = 0, ignore_index=True)\n",
    "\n",
    "y = train['Rings']\n",
    "# Because RMSLE score, We make a conversion like below:\n",
    "y_log = np.log(1+y)\n",
    "# Add the end for getting the result we back to original like below:\n",
    "# y = np.exp(y_log)-1\n",
    "\n",
    "\n",
    "train = train.drop(['Rings'], axis = 1)\n",
    "train.head()"
   ]
  },
  {
   "cell_type": "code",
   "execution_count": 7,
   "id": "a05f02f5",
   "metadata": {
    "execution": {
     "iopub.execute_input": "2024-04-09T19:58:26.430197Z",
     "iopub.status.busy": "2024-04-09T19:58:26.429604Z",
     "iopub.status.idle": "2024-04-09T19:58:26.446324Z",
     "shell.execute_reply": "2024-04-09T19:58:26.445381Z"
    },
    "papermill": {
     "duration": 0.025835,
     "end_time": "2024-04-09T19:58:26.448295",
     "exception": false,
     "start_time": "2024-04-09T19:58:26.422460",
     "status": "completed"
    },
    "tags": []
   },
   "outputs": [
    {
     "data": {
      "text/html": [
       "<div>\n",
       "<style scoped>\n",
       "    .dataframe tbody tr th:only-of-type {\n",
       "        vertical-align: middle;\n",
       "    }\n",
       "\n",
       "    .dataframe tbody tr th {\n",
       "        vertical-align: top;\n",
       "    }\n",
       "\n",
       "    .dataframe thead th {\n",
       "        text-align: right;\n",
       "    }\n",
       "</style>\n",
       "<table border=\"1\" class=\"dataframe\">\n",
       "  <thead>\n",
       "    <tr style=\"text-align: right;\">\n",
       "      <th></th>\n",
       "      <th>Sex</th>\n",
       "      <th>Length</th>\n",
       "      <th>Diameter</th>\n",
       "      <th>Height</th>\n",
       "      <th>Whole weight</th>\n",
       "      <th>Shucked weight</th>\n",
       "      <th>Viscera weight</th>\n",
       "      <th>Shell weight</th>\n",
       "    </tr>\n",
       "  </thead>\n",
       "  <tbody>\n",
       "    <tr>\n",
       "      <th>0</th>\n",
       "      <td>M</td>\n",
       "      <td>0.645</td>\n",
       "      <td>0.475</td>\n",
       "      <td>0.155</td>\n",
       "      <td>1.2380</td>\n",
       "      <td>0.6185</td>\n",
       "      <td>0.3125</td>\n",
       "      <td>0.3005</td>\n",
       "    </tr>\n",
       "    <tr>\n",
       "      <th>1</th>\n",
       "      <td>M</td>\n",
       "      <td>0.580</td>\n",
       "      <td>0.460</td>\n",
       "      <td>0.160</td>\n",
       "      <td>0.9830</td>\n",
       "      <td>0.4785</td>\n",
       "      <td>0.2195</td>\n",
       "      <td>0.2750</td>\n",
       "    </tr>\n",
       "    <tr>\n",
       "      <th>2</th>\n",
       "      <td>M</td>\n",
       "      <td>0.560</td>\n",
       "      <td>0.420</td>\n",
       "      <td>0.140</td>\n",
       "      <td>0.8395</td>\n",
       "      <td>0.3525</td>\n",
       "      <td>0.1845</td>\n",
       "      <td>0.2405</td>\n",
       "    </tr>\n",
       "    <tr>\n",
       "      <th>3</th>\n",
       "      <td>M</td>\n",
       "      <td>0.570</td>\n",
       "      <td>0.490</td>\n",
       "      <td>0.145</td>\n",
       "      <td>0.8740</td>\n",
       "      <td>0.3525</td>\n",
       "      <td>0.1865</td>\n",
       "      <td>0.2350</td>\n",
       "    </tr>\n",
       "    <tr>\n",
       "      <th>4</th>\n",
       "      <td>I</td>\n",
       "      <td>0.415</td>\n",
       "      <td>0.325</td>\n",
       "      <td>0.110</td>\n",
       "      <td>0.3580</td>\n",
       "      <td>0.1575</td>\n",
       "      <td>0.0670</td>\n",
       "      <td>0.1050</td>\n",
       "    </tr>\n",
       "  </tbody>\n",
       "</table>\n",
       "</div>"
      ],
      "text/plain": [
       "  Sex  Length  Diameter  Height  Whole weight  Shucked weight  Viscera weight  \\\n",
       "0   M   0.645     0.475   0.155        1.2380          0.6185          0.3125   \n",
       "1   M   0.580     0.460   0.160        0.9830          0.4785          0.2195   \n",
       "2   M   0.560     0.420   0.140        0.8395          0.3525          0.1845   \n",
       "3   M   0.570     0.490   0.145        0.8740          0.3525          0.1865   \n",
       "4   I   0.415     0.325   0.110        0.3580          0.1575          0.0670   \n",
       "\n",
       "   Shell weight  \n",
       "0        0.3005  \n",
       "1        0.2750  \n",
       "2        0.2405  \n",
       "3        0.2350  \n",
       "4        0.1050  "
      ]
     },
     "execution_count": 7,
     "metadata": {},
     "output_type": "execute_result"
    }
   ],
   "source": [
    "test_id = test['id']\n",
    "test = test.drop('id', axis = 1)\n",
    "test.columns = train.columns\n",
    "test.head()"
   ]
  },
  {
   "cell_type": "code",
   "execution_count": 8,
   "id": "fc167c79",
   "metadata": {
    "execution": {
     "iopub.execute_input": "2024-04-09T19:58:26.463991Z",
     "iopub.status.busy": "2024-04-09T19:58:26.463719Z",
     "iopub.status.idle": "2024-04-09T19:58:26.526556Z",
     "shell.execute_reply": "2024-04-09T19:58:26.525820Z"
    },
    "papermill": {
     "duration": 0.073273,
     "end_time": "2024-04-09T19:58:26.528738",
     "exception": false,
     "start_time": "2024-04-09T19:58:26.455465",
     "status": "completed"
    },
    "tags": []
   },
   "outputs": [],
   "source": [
    "encoder = OneHotEncoder(sparse_output = False, handle_unknown = 'ignore')\n",
    "\n",
    "train = pd.concat([\n",
    "                    train.iloc[:,1:], \n",
    "                    pd.DataFrame(encoder.fit_transform(train[['Sex']]).astype('int'), \n",
    "                                 columns = encoder.categories_[0])\n",
    "                    ], \n",
    "                    axis = 1\n",
    "                )\n",
    "\n",
    "test  = pd.concat([\n",
    "                    test.iloc[:,1:], \n",
    "                    pd.DataFrame(encoder.transform(test[['Sex']]).astype('int'), \n",
    "                                 columns = encoder.categories_[0])\n",
    "                    ], \n",
    "                    axis = 1\n",
    "                )"
   ]
  },
  {
   "cell_type": "code",
   "execution_count": 9,
   "id": "3a871a17",
   "metadata": {
    "execution": {
     "iopub.execute_input": "2024-04-09T19:58:26.543335Z",
     "iopub.status.busy": "2024-04-09T19:58:26.543042Z",
     "iopub.status.idle": "2024-04-09T19:58:26.568858Z",
     "shell.execute_reply": "2024-04-09T19:58:26.568192Z"
    },
    "papermill": {
     "duration": 0.035203,
     "end_time": "2024-04-09T19:58:26.570854",
     "exception": false,
     "start_time": "2024-04-09T19:58:26.535651",
     "status": "completed"
    },
    "tags": []
   },
   "outputs": [],
   "source": [
    "def log_transformation(data, columns):\n",
    "    for column in columns:\n",
    "        positive_values = data[column] - data[column].min() + 1\n",
    "        data[f'{column}_log'] = np.log(positive_values)\n",
    "    return data\n",
    "\n",
    "\n",
    "if APPLY_LOG_TRANSFORMATION:\n",
    "    train = log_transformation(train, ['Length', 'Diameter', 'Height', 'Whole weight', 'Shucked weight','Viscera weight', 'Shell weight'])\n",
    "    test  = log_transformation(test, ['Length', 'Diameter', 'Height', 'Whole weight', 'Shucked weight','Viscera weight', 'Shell weight'])"
   ]
  },
  {
   "cell_type": "code",
   "execution_count": 10,
   "id": "d10ada73",
   "metadata": {
    "execution": {
     "iopub.execute_input": "2024-04-09T19:58:26.585070Z",
     "iopub.status.busy": "2024-04-09T19:58:26.584803Z",
     "iopub.status.idle": "2024-04-09T19:58:26.596214Z",
     "shell.execute_reply": "2024-04-09T19:58:26.595349Z"
    },
    "papermill": {
     "duration": 0.020695,
     "end_time": "2024-04-09T19:58:26.598080",
     "exception": false,
     "start_time": "2024-04-09T19:58:26.577385",
     "status": "completed"
    },
    "tags": []
   },
   "outputs": [
    {
     "name": "stderr",
     "output_type": "stream",
     "text": [
      "[I 2024-04-09 19:58:26,590] A new study created in memory with name: optuna_catboost\n"
     ]
    },
    {
     "name": "stdout",
     "output_type": "stream",
     "text": [
      "CPU times: user 1.97 ms, sys: 69 µs, total: 2.04 ms\n",
      "Wall time: 1.69 ms\n"
     ]
    }
   ],
   "source": [
    "%%time\n",
    "\n",
    "\n",
    "def objective(trial):\n",
    "\n",
    "    params = {\n",
    "        \"verbose\": False,\n",
    "        \"iterations\": 1000,\n",
    "        \"loss_function\":'RMSE',\n",
    "        \"random_state\": RANDOM_SEED,\n",
    "        \"depth\": trial.suggest_int(\"depth\", 3, 15),\n",
    "        \"subsample\": trial.suggest_float(\"subsample\", 0.01, 1.0),\n",
    "        \"min_data_in_leaf\": trial.suggest_int(\"min_data_in_leaf\", 1, 100),\n",
    "        \"colsample_bylevel\": trial.suggest_float(\"colsample_bylevel\", 0.01, 1.0),\n",
    "        \"learning_rate\": trial.suggest_float(\"learning_rate\", 1e-3, 0.1, log=True),\n",
    "    }\n",
    "\n",
    "    cv = StratifiedKFold(n_splits=5, shuffle=True, random_state=RANDOM_SEED)\n",
    "    scores = []\n",
    "    for _, (train_index, valid_index) in enumerate(cv.split(train, y)):\n",
    "        X_train, y_train = train.iloc[train_index], y_log.iloc[train_index]\n",
    "        X_valid, y_valid = train.iloc[valid_index], y_log.iloc[valid_index]\n",
    "        model = CatBoostRegressor(**params)\n",
    "\n",
    "        model.fit(X_train, y_train, \n",
    "                  eval_set=(X_valid, y_valid),\n",
    "                  early_stopping_rounds=100)\n",
    "        \n",
    "        y_pred = model.predict(X_valid)\n",
    "        scores.append(root_mean_squared_error(y_valid, y_pred))\n",
    "    return np.mean(scores)\n",
    "\n",
    "\n",
    "study = optuna.create_study(direction='minimize', study_name=\"optuna_catboost\")\n",
    "if FIND_BEST_PARAMS:\n",
    "    study.optimize(objective, n_trials=50)\n",
    "    print(f\"Best trial average RMSE: {study.best_value:.4f}\")\n",
    "    for key, value in study.best_params.items():\n",
    "        print(f\"{key}: {value}\")"
   ]
  },
  {
   "cell_type": "code",
   "execution_count": 11,
   "id": "3968f5bc",
   "metadata": {
    "execution": {
     "iopub.execute_input": "2024-04-09T19:58:26.612336Z",
     "iopub.status.busy": "2024-04-09T19:58:26.612078Z",
     "iopub.status.idle": "2024-04-09T19:58:26.623587Z",
     "shell.execute_reply": "2024-04-09T19:58:26.622744Z"
    },
    "papermill": {
     "duration": 0.020788,
     "end_time": "2024-04-09T19:58:26.625469",
     "exception": false,
     "start_time": "2024-04-09T19:58:26.604681",
     "status": "completed"
    },
    "tags": []
   },
   "outputs": [
    {
     "name": "stderr",
     "output_type": "stream",
     "text": [
      "[I 2024-04-09 19:58:26,617] A new study created in memory with name: optuna_lgbm\n"
     ]
    },
    {
     "name": "stdout",
     "output_type": "stream",
     "text": [
      "CPU times: user 488 µs, sys: 874 µs, total: 1.36 ms\n",
      "Wall time: 1.14 ms\n"
     ]
    }
   ],
   "source": [
    "%%time\n",
    "\n",
    "\n",
    "def objective(trial):\n",
    "\n",
    "    params = {\n",
    "        'n_jobs':-1,\n",
    "        \"metric\":'rmse',  \n",
    "        \"verbosity\": -1,\n",
    "        \"bagging_freq\": 1,\n",
    "        \"boosting_type\": \"gbdt\",    \n",
    "        \"objective\":'regression', \n",
    "        'random_state':RANDOM_SEED,\n",
    "        'max_depth': trial.suggest_int('max_depth', 3, 15),                        \n",
    "        \"subsample\": trial.suggest_float(\"subsample\", 0.05, 1.0),\n",
    "        \"n_estimators\": trial.suggest_int('n_estimators', 400, 1000),\n",
    "        \"min_data_in_leaf\": trial.suggest_int(\"min_data_in_leaf\", 1, 100),               \n",
    "        \"learning_rate\": trial.suggest_float(\"learning_rate\", 0.005, 0.01),\n",
    "        'min_child_samples': trial.suggest_int('min_child_samples', 10, 60),\n",
    "        'lambda_l1': trial.suggest_float('lambda_l1', 1e-8, 10.0, log=True),\n",
    "        'lambda_l2': trial.suggest_float('lambda_l2', 1e-8, 10.0, log=True),\n",
    "        \"colsample_bytree\": trial.suggest_float(\"colsample_bytree\", 0.3, 1.0),\n",
    "    }\n",
    "\n",
    "    cv = StratifiedKFold(n_splits=5, shuffle=True, random_state=RANDOM_SEED)\n",
    "    scores = []\n",
    "    for _, (train_index, valid_index) in enumerate(cv.split(train, y)):\n",
    "        X_train, y_train = train.iloc[train_index], y_log.iloc[train_index]\n",
    "        X_valid, y_valid = train.iloc[valid_index], y_log.iloc[valid_index]\n",
    "        model = LGBMRegressor(**params)\n",
    "        model.fit(X_train, y_train)\n",
    "        y_pred = model.predict(X_valid)     \n",
    "        scores.append(root_mean_squared_error(y_valid, y_pred))\n",
    "    return np.mean(scores)\n",
    "\n",
    "\n",
    "study = optuna.create_study(direction='minimize', study_name=\"optuna_lgbm\")\n",
    "if FIND_BEST_PARAMS:\n",
    "    study.optimize(objective, n_trials=50)\n",
    "    print(f\"Best trial average RMSE: {study.best_value:.4f}\")\n",
    "    for key, value in study.best_params.items():\n",
    "        print(f\"{key}: {value}\")"
   ]
  },
  {
   "cell_type": "code",
   "execution_count": 12,
   "id": "66f65555",
   "metadata": {
    "execution": {
     "iopub.execute_input": "2024-04-09T19:58:26.640320Z",
     "iopub.status.busy": "2024-04-09T19:58:26.639688Z",
     "iopub.status.idle": "2024-04-09T19:58:26.650382Z",
     "shell.execute_reply": "2024-04-09T19:58:26.649481Z"
    },
    "papermill": {
     "duration": 0.019928,
     "end_time": "2024-04-09T19:58:26.652221",
     "exception": false,
     "start_time": "2024-04-09T19:58:26.632293",
     "status": "completed"
    },
    "tags": []
   },
   "outputs": [
    {
     "name": "stderr",
     "output_type": "stream",
     "text": [
      "[I 2024-04-09 19:58:26,644] A new study created in memory with name: optuna_xgboost\n"
     ]
    },
    {
     "name": "stdout",
     "output_type": "stream",
     "text": [
      "CPU times: user 551 µs, sys: 660 µs, total: 1.21 ms\n",
      "Wall time: 1.1 ms\n"
     ]
    }
   ],
   "source": [
    "%%time\n",
    "\n",
    "\n",
    "def objective(trial):\n",
    "\n",
    "    params = {\n",
    "        'eval_metric': 'rmse',\n",
    "        'random_state': RANDOM_SEED,\n",
    "        'objective': 'reg:squarederror',\n",
    "        'gamma': trial.suggest_float(\"gamma\", 1e-2, 1.0),\n",
    "        'max_depth': trial.suggest_int('max_depth',2, 20),\n",
    "        'subsample': trial.suggest_float(\"subsample\", 0.05, 1.0),\n",
    "        'n_estimators': trial.suggest_int('n_estimators',100, 1000),\n",
    "        'min_child_weight': trial.suggest_int('min_child_weight',2, 20),\n",
    "        'colsample_bytree': trial.suggest_float(\"colsample_bytree\", 0.05, 1.0),\n",
    "        'learning_rate': trial.suggest_float(\"learning_rate\", 1e-3, 0.1, log=True),\n",
    "    }\n",
    "\n",
    "    cv = StratifiedKFold(n_splits=5, shuffle=True, random_state=RANDOM_SEED)\n",
    "    scores = []\n",
    "    for _, (train_index, valid_index) in enumerate(cv.split(train, y)):\n",
    "        X_train, y_train = train.iloc[train_index], y_log.iloc[train_index]\n",
    "        X_valid, y_valid = train.iloc[valid_index], y_log.iloc[valid_index]\n",
    "        model = XGBRegressor(**params)\n",
    "        model.fit(X_train, y_train)\n",
    "        y_pred = model.predict(X_valid)     \n",
    "        scores.append(root_mean_squared_error(y_valid, y_pred))\n",
    "    return np.mean(scores)\n",
    "\n",
    "\n",
    "study = optuna.create_study(direction='minimize', study_name=\"optuna_xgboost\")\n",
    "if FIND_BEST_PARAMS:\n",
    "    study.optimize(objective, n_trials=50)\n",
    "    print(f\"Best trial average RMSE: {study.best_value:.4f}\")\n",
    "    for key, value in study.best_params.items():\n",
    "        print(f\"{key}: {value}\")"
   ]
  },
  {
   "cell_type": "code",
   "execution_count": 13,
   "id": "f8fb5092",
   "metadata": {
    "execution": {
     "iopub.execute_input": "2024-04-09T19:58:26.667250Z",
     "iopub.status.busy": "2024-04-09T19:58:26.666593Z",
     "iopub.status.idle": "2024-04-09T19:58:26.674859Z",
     "shell.execute_reply": "2024-04-09T19:58:26.674044Z"
    },
    "papermill": {
     "duration": 0.017617,
     "end_time": "2024-04-09T19:58:26.676649",
     "exception": false,
     "start_time": "2024-04-09T19:58:26.659032",
     "status": "completed"
    },
    "tags": []
   },
   "outputs": [],
   "source": [
    "xgboost_params = {\n",
    "    'max_depth': 10, \n",
    "    'verbosity': 0,\n",
    "    'random_state':RANDOM_SEED,\n",
    "    'device': 'cuda',\n",
    "    'booster': 'gbtree',\n",
    "    'n_estimators': 1137, \n",
    "    'tree_method': 'hist',\n",
    "    'min_child_weight': 7, \n",
    "    'grow_policy': 'lossguide', \n",
    "    'gamma': 0.03816426816838989, \n",
    "    'subsample': 0.486382907668344, \n",
    "    'objective': 'reg:squarederror',\n",
    "    'reg_lambda': 1.7487237399420372, \n",
    "    'reg_alpha': 0.013043045359306716,\n",
    "    'learning_rate': 0.011733966748427322, \n",
    "    'colsample_bytree': 0.5748511749872887, \n",
    "}\n",
    "\n",
    "lgbm_params = {\n",
    "     'metric':'rmse', \n",
    "     'device':'gpu', \n",
    "     'verbosity': -1,\n",
    "     'max_depth': 15,\n",
    "     'random_state':RANDOM_SEED,\n",
    "     'num_leaves': 138, \n",
    "     'n_estimators': 913, \n",
    "     'boosting_type': 'gbdt', \n",
    "     'min_child_samples': 34, \n",
    "     'objective':'regression', \n",
    "     'subsample_for_bin': 185680, \n",
    "     'subsample': 0.799314727120346, \n",
    "     'reg_alpha': 5.916235901972299e-09, \n",
    "     'reg_lambda': 6.943912907338958e-08, \n",
    "     'learning_rate': 0.01851440025520457, \n",
    "     'colsample_bytree': 0.4339090795122026, \n",
    "}\n",
    "\n",
    "catboost_params = {\n",
    "    'depth': 15, \n",
    "    'max_bin': 464, \n",
    "    'verbose': False,\n",
    "    'random_state':RANDOM_SEED,\n",
    "    'task_type': 'CPU', \n",
    "    'eval_metric': 'RMSE', \n",
    "    'min_data_in_leaf': 78, \n",
    "    'loss_function': 'RMSE', \n",
    "    'grow_policy': 'Lossguide', \n",
    "    'bootstrap_type': 'Bernoulli', \n",
    "    'subsample': 0.83862137638162, \n",
    "    'l2_leaf_reg': 8.365422739510098, \n",
    "    'random_strength': 3.296124856352495, \n",
    "    'learning_rate': 0.09992185242598203, \n",
    "}"
   ]
  },
  {
   "cell_type": "code",
   "execution_count": 14,
   "id": "2251c6b0",
   "metadata": {
    "execution": {
     "iopub.execute_input": "2024-04-09T19:58:26.691569Z",
     "iopub.status.busy": "2024-04-09T19:58:26.691310Z",
     "iopub.status.idle": "2024-04-09T19:58:26.698175Z",
     "shell.execute_reply": "2024-04-09T19:58:26.697370Z"
    },
    "papermill": {
     "duration": 0.016402,
     "end_time": "2024-04-09T19:58:26.700121",
     "exception": false,
     "start_time": "2024-04-09T19:58:26.683719",
     "status": "completed"
    },
    "tags": []
   },
   "outputs": [],
   "source": [
    "cv_estimators = [\n",
    "    ('lgbm', LGBMRegressor(**lgbm_params)),\n",
    "    ('xgboost', XGBRegressor(**xgboost_params)),\n",
    "    ('catboost', CatBoostRegressor(**catboost_params))\n",
    "]"
   ]
  },
  {
   "cell_type": "code",
   "execution_count": 15,
   "id": "fbc0497b",
   "metadata": {
    "execution": {
     "iopub.execute_input": "2024-04-09T19:58:26.715285Z",
     "iopub.status.busy": "2024-04-09T19:58:26.714580Z",
     "iopub.status.idle": "2024-04-09T19:58:26.724415Z",
     "shell.execute_reply": "2024-04-09T19:58:26.723573Z"
    },
    "papermill": {
     "duration": 0.019172,
     "end_time": "2024-04-09T19:58:26.726240",
     "exception": false,
     "start_time": "2024-04-09T19:58:26.707068",
     "status": "completed"
    },
    "tags": []
   },
   "outputs": [
    {
     "name": "stderr",
     "output_type": "stream",
     "text": [
      "[I 2024-04-09 19:58:26,719] A new study created in memory with name: voting_regressor_optuna\n"
     ]
    },
    {
     "name": "stdout",
     "output_type": "stream",
     "text": [
      "CPU times: user 433 µs, sys: 765 µs, total: 1.2 ms\n",
      "Wall time: 1.01 ms\n"
     ]
    }
   ],
   "source": [
    "%%time\n",
    "\n",
    "\n",
    "def objective(trial):\n",
    "    \n",
    "    params = {\n",
    "        'lgbm_weight': trial.suggest_float('lgbm_weight', 0.0, 5.0),\n",
    "        'xgboost_weight': trial.suggest_float('xgboost_weight', 0.0, 5.0),\n",
    "        'catboost_weight': trial.suggest_float('catboost_weight', 0.0, 5.0),\n",
    "    }\n",
    "\n",
    "\n",
    "    cv = StratifiedKFold(n_splits=5, shuffle=True, random_state=RANDOM_SEED)\n",
    "    scores = []\n",
    "    for _, (train_index, valid_index) in enumerate(cv.split(train, y)):\n",
    "        X_train, y_train = train.iloc[train_index], y_log.iloc[train_index]\n",
    "        X_valid, y_valid = train.iloc[valid_index], y_log.iloc[valid_index]\n",
    "        voting_regressor = VotingRegressor(\n",
    "            estimators=cv_estimators,\n",
    "            weights=[params['lgbm_weight'], params['xgboost_weight'], params['catboost_weight']]\n",
    "        )\n",
    "        voting_regressor.fit(X_train, y_train)\n",
    "        y_pred = voting_regressor.predict(X_valid)  \n",
    "        scores.append(root_mean_squared_error(y_valid, y_pred))\n",
    "    return np.mean(scores)\n",
    "\n",
    "\n",
    "study = optuna.create_study(direction='minimize', study_name=\"voting_regressor_optuna\")\n",
    "if FIND_BEST_PARAMS:\n",
    "    study.optimize(objective, n_trials=100)\n",
    "    print(f\"Best trial average RMSE: {study.best_value:.4f}\")\n",
    "    for key, value in study.best_params.items():\n",
    "        print(f\"{key}: {value}\")\n"
   ]
  },
  {
   "cell_type": "code",
   "execution_count": 16,
   "id": "b185778d",
   "metadata": {
    "execution": {
     "iopub.execute_input": "2024-04-09T19:58:26.741339Z",
     "iopub.status.busy": "2024-04-09T19:58:26.741100Z",
     "iopub.status.idle": "2024-04-09T20:09:22.447014Z",
     "shell.execute_reply": "2024-04-09T20:09:22.445977Z"
    },
    "papermill": {
     "duration": 655.725048,
     "end_time": "2024-04-09T20:09:22.458328",
     "exception": false,
     "start_time": "2024-04-09T19:58:26.733280",
     "status": "completed"
    },
    "tags": []
   },
   "outputs": [
    {
     "name": "stderr",
     "output_type": "stream",
     "text": [
      "1 warning generated.\n",
      "1 warning generated.\n",
      "1 warning generated.\n",
      "1 warning generated.\n",
      "1 warning generated.\n",
      "1 warning generated.\n",
      "1 warning generated.\n",
      "1 warning generated.\n",
      "1 warning generated.\n",
      "1 warning generated.\n",
      "1 warning generated.\n",
      "1 warning generated.\n",
      "1 warning generated.\n",
      "1 warning generated.\n",
      "1 warning generated.\n",
      "1 warning generated.\n",
      "1 warning generated.\n",
      "1 warning generated.\n",
      "1 warning generated.\n",
      "1 warning generated.\n",
      "1 warning generated.\n",
      "1 warning generated.\n",
      "1 warning generated.\n",
      "1 warning generated.\n",
      "1 warning generated.\n",
      "1 warning generated.\n",
      "1 warning generated.\n",
      "1 warning generated.\n",
      "1 warning generated.\n",
      "1 warning generated.\n",
      "1 warning generated.\n",
      "1 warning generated.\n",
      "1 warning generated.\n"
     ]
    },
    {
     "name": "stdout",
     "output_type": "stream",
     "text": [
      "FOLD 0 Done. RMSE : 0.14846438931642345\n",
      "FOLD 1 Done. RMSE : 0.1470052260803556\n",
      "FOLD 2 Done. RMSE : 0.14815568475829008\n",
      "FOLD 3 Done. RMSE : 0.1490412006038859\n",
      "FOLD 4 Done. RMSE : 0.14817057414995863\n",
      "All FOLD. Mean RMSE : 0.14816741498178274\n",
      "FOLD 0 Done. RMSE : 0.14849932345345693\n",
      "FOLD 1 Done. RMSE : 0.14703735176517257\n",
      "FOLD 2 Done. RMSE : 0.14809290486302978\n",
      "FOLD 3 Done. RMSE : 0.1491554269362705\n",
      "FOLD 4 Done. RMSE : 0.14828814879962343\n",
      "All FOLD. Mean RMSE : 0.14821463116351064\n",
      "CPU times: user 27min 28s, sys: 1min 29s, total: 28min 58s\n",
      "Wall time: 10min 55s\n"
     ]
    }
   ],
   "source": [
    "%%time\n",
    "\n",
    "train2 = train.copy()\n",
    "test2  = test.copy()\n",
    "\n",
    "# I find these drop cols with feature selection base genetic algorithm\n",
    "lst_drop_cols = [\n",
    "    ['Shucked weight', 'Shell weight', 'Length_log', 'Diameter_log', 'Height_log', 'Viscera weight_log'],\n",
    "                 ['Shell weight', 'I', 'Length_log', 'Height_log', 'Viscera weight_log']]\n",
    "\n",
    "lst_y_pred_test = []\n",
    "for i in range(len(lst_drop_cols)):\n",
    "    if APPLY_FEATURE_ENGINEERING:\n",
    "        train2 = train.drop(lst_drop_cols[i], axis=1)\n",
    "        test2  = test.drop(lst_drop_cols[i], axis=1)\n",
    "\n",
    "    weight_best_params = {\n",
    "        'lgbm_weight': 4.104966149239676, \n",
    "        'xgboost_weight': 0.48550637896530635, \n",
    "        'catboost_weight': 4.189724537494019,\n",
    "    }\n",
    "\n",
    "\n",
    "    voting_regressor = VotingRegressor(\n",
    "        estimators=cv_estimators,\n",
    "        weights=[ weight_best_params['lgbm_weight'], \n",
    "                  weight_best_params['xgboost_weight'], \n",
    "                  weight_best_params['catboost_weight']\n",
    "        ]\n",
    "    )\n",
    "\n",
    "    cv = StratifiedKFold(n_splits=5, shuffle=True, random_state=RANDOM_SEED)\n",
    "    scores = []\n",
    "    y_pred_test = []\n",
    "    for fold_i, (train_index, valid_index) in enumerate(cv.split(train, y)):\n",
    "        X_train, y_train = train2.iloc[train_index], y_log.iloc[train_index]\n",
    "        X_valid, y_valid = train2.iloc[valid_index], y_log.iloc[valid_index]\n",
    "        voting_regressor.fit(X_train, y_train)\n",
    "        y_pred = voting_regressor.predict(X_valid)  \n",
    "        score = root_mean_squared_error(y_valid, y_pred)\n",
    "        scores.append(score)\n",
    "        y_pred_test.append(voting_regressor.predict(test2))\n",
    "        print(f\"FOLD {fold_i} Done. RMSE : {score}\")\n",
    "    print(f\"All FOLD. Mean RMSE : {np.mean(scores)}\")\n",
    "    lst_y_pred_test.append(np.mean(y_pred_test, axis=0))"
   ]
  },
  {
   "cell_type": "code",
   "execution_count": 17,
   "id": "4bf2328a",
   "metadata": {
    "execution": {
     "iopub.execute_input": "2024-04-09T20:09:22.478523Z",
     "iopub.status.busy": "2024-04-09T20:09:22.477740Z",
     "iopub.status.idle": "2024-04-09T20:09:22.658881Z",
     "shell.execute_reply": "2024-04-09T20:09:22.657887Z"
    },
    "papermill": {
     "duration": 0.193393,
     "end_time": "2024-04-09T20:09:22.661153",
     "exception": false,
     "start_time": "2024-04-09T20:09:22.467760",
     "status": "completed"
    },
    "tags": []
   },
   "outputs": [],
   "source": [
    "predictions = np.mean(lst_y_pred_test, axis=0)\n",
    "sub  = pd.DataFrame(columns = ['id', 'Rings'])\n",
    "sub['id'] = test_id\n",
    "sub['Rings'] = np.exp(predictions)-1\n",
    "sub.to_csv('submission_0.14550.csv', index = False)"
   ]
  },
  {
   "cell_type": "code",
   "execution_count": 18,
   "id": "02b445aa",
   "metadata": {
    "execution": {
     "iopub.execute_input": "2024-04-09T20:09:22.681683Z",
     "iopub.status.busy": "2024-04-09T20:09:22.680958Z",
     "iopub.status.idle": "2024-04-09T20:09:22.732393Z",
     "shell.execute_reply": "2024-04-09T20:09:22.731609Z"
    },
    "papermill": {
     "duration": 0.063743,
     "end_time": "2024-04-09T20:09:22.734543",
     "exception": false,
     "start_time": "2024-04-09T20:09:22.670800",
     "status": "completed"
    },
    "tags": []
   },
   "outputs": [],
   "source": [
    "import pandas as pd\n",
    "\n",
    "df1 = pd.read_csv('/kaggle/input/ps4e4-feature-engineering-regression/submission_comb.csv')\n",
    "df2 = sub"
   ]
  },
  {
   "cell_type": "code",
   "execution_count": 19,
   "id": "50a08026",
   "metadata": {
    "execution": {
     "iopub.execute_input": "2024-04-09T20:09:22.754139Z",
     "iopub.status.busy": "2024-04-09T20:09:22.753861Z",
     "iopub.status.idle": "2024-04-09T20:09:22.921561Z",
     "shell.execute_reply": "2024-04-09T20:09:22.920812Z"
    },
    "papermill": {
     "duration": 0.179749,
     "end_time": "2024-04-09T20:09:22.923641",
     "exception": false,
     "start_time": "2024-04-09T20:09:22.743892",
     "status": "completed"
    },
    "tags": []
   },
   "outputs": [],
   "source": [
    "if MAKING_ENSEMBLE:\n",
    "    zr1 = 0.9\n",
    "    zr2 = 0.1\n",
    "\n",
    "    df3 = df1.copy()\n",
    "    df3['Rings'] = df1['Rings']*zr1 + df2['Rings']*zr2\n",
    "    df3.to_csv('submission.csv', index=False)\n",
    "\n",
    "else:\n",
    "    sub.to_csv('submission.csv', index = False)"
   ]
  }
 ],
 "metadata": {
  "kaggle": {
   "accelerator": "gpu",
   "dataSources": [
    {
     "databundleVersionId": 8096274,
     "sourceId": 72489,
     "sourceType": "competition"
    },
    {
     "datasetId": 37691,
     "sourceId": 57419,
     "sourceType": "datasetVersion"
    },
    {
     "sourceId": 171179355,
     "sourceType": "kernelVersion"
    }
   ],
   "dockerImageVersionId": 30673,
   "isGpuEnabled": true,
   "isInternetEnabled": true,
   "language": "python",
   "sourceType": "notebook"
  },
  "kernelspec": {
   "display_name": "Python 3 (ipykernel)",
   "language": "python",
   "name": "python3"
  },
  "language_info": {
   "codemirror_mode": {
    "name": "ipython",
    "version": 3
   },
   "file_extension": ".py",
   "mimetype": "text/x-python",
   "name": "python",
   "nbconvert_exporter": "python",
   "pygments_lexer": "ipython3",
   "version": "3.11.3"
  },
  "papermill": {
   "default_parameters": {},
   "duration": 682.671208,
   "end_time": "2024-04-09T20:09:23.653592",
   "environment_variables": {},
   "exception": null,
   "input_path": "__notebook__.ipynb",
   "output_path": "__notebook__.ipynb",
   "parameters": {},
   "start_time": "2024-04-09T19:58:00.982384",
   "version": "2.5.0"
  }
 },
 "nbformat": 4,
 "nbformat_minor": 5
}
